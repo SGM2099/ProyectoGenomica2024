{
  "nbformat": 4,
  "nbformat_minor": 0,
  "metadata": {
    "colab": {
      "provenance": [],
      "collapsed_sections": [
        "F7H8wZD2pBL-",
        "q3aEFFK7FmCn"
      ]
    },
    "kernelspec": {
      "name": "python3",
      "display_name": "Python 3"
    },
    "language_info": {
      "name": "python"
    }
  },
  "cells": [
    {
      "cell_type": "markdown",
      "source": [
        "# **🧬🧬 Proyecto Genómica Computacional 🧬🧬**\n",
        "\n",
        "# 🐘<font color='green'>*Similitudes de algunos elefantes modernos  con los mamuts* </font> 🐘\n",
        "\n",
        "### 🖊️ **Autores:**\n",
        "\n",
        "*   Aquino Chapa Armando Abraham  <font color='brown'>317058163</font>\n",
        "*   Terrazas Rivera Alejandro <font color='brown'>421006692</font>\n",
        "*   Gutiérrez Medina Sebastián Alejandro  <font color='brown'>318287021</font>\n",
        "\n",
        "---\n",
        "\n",
        "*   <font color='grey'>Profesor: </font> Sergio Hernández López\n",
        "*   <font color='grey'>Ayudante: </font> Jazmín de Jesús Santillán Manjarrez\n",
        "*   <font color='grey'>Ayudante: </font> Rafael López Martínez\n",
        "*   <font color='grey'>Ayudante: </font> Maira Nayeli Luis Vargas\n",
        "\n"
      ],
      "metadata": {
        "id": "ZFRiBMLkgxDl"
      }
    },
    {
      "cell_type": "markdown",
      "source": [
        "El objetivo de este proyecto es determinar a través del <font color='blue'>DNA mitocondrial (**mtDNA**)</font> cuál de los siguientes elefantes modernos está más relacionado con el mamut lanudo (<font color='red'>*Mammuthus Primigenius*</font>):\n",
        "\n",
        "\n",
        "\n",
        "*   Elefante Africano (<font color='red'>*Loxodonta Africana*</font>)\n",
        "*   Elefante Asiático (<font color='red'>*Elephas Maximus*</font>)\n",
        "*   Musaraña Elefante (<font color='red'>*Elpehantulus sp. VB001*</font>)\n",
        "\n",
        "\n",
        "![](https://drive.google.com/uc?id=1-q1ZLPhrAeu-3qeYgNZFjOLKjkiDQ7p-)\n",
        "\n",
        "\n",
        "Para ello realizaremos el siguiente procedimiento (que más adelante será detallado paso a paso):\n",
        "\n",
        "1.   Elminar las <font color='red'>HVR</font> de las secuencias de <font color='blue'>mtDNA</font>\n",
        "2.   <font color='red'>Alineamiento global</font> de las secuencias de <font color='blue'>mtDNA</font>\n",
        "3.   Estimar la <font color='red'>distancia genética</font> utilizando el modelo de Jukes-Cantor\n",
        "5.   Crear una gráfica para observar los resultados  \n",
        "\n"
      ],
      "metadata": {
        "id": "-OE3Tx2eh30e"
      }
    },
    {
      "cell_type": "markdown",
      "source": [
        "### <font color='brown'>¿Por qué utilizamos el DNA mitocondrial? </font>\n",
        "\n"
      ],
      "metadata": {
        "id": "F7H8wZD2pBL-"
      }
    },
    {
      "cell_type": "markdown",
      "source": [
        "Las <font color='blue'>*mitocondrias* </font>  son orgánulos de celulas eucariontas implicadas en la <font color='orange'>*producción de energía* </font> de las células. Las  <font color='blue'>*mitocondrias* </font>  se constituyen de su propio cromosoma circular (a diferencia del cromosoma en forma de \"X\" del DNA nuclear) de 16569 de bases para los humanos, que contiene 37 genes codificantes de proteinas y genes de ARN.\n",
        "\n",
        "A diferencia del DNA nuclear, sólo podemos heredar DNA mitocondrial de nuestras madres, por lo que se tenemos una versión a comparación del genoma nuclear, donde tenemos la versión de nuestro padre y madre. Cada célula contiene múltiples copias de este <font color='blue'>mtDNA</font>.\n",
        "\n",
        "En el caso del mamut lanudo, según el artículo titulado \"[Complete Mitochondrial Genome and Phylogeny of Pleistocene MammothMammuthus primigenius](https://journals.plos.org/plosbiology/article?id=10.1371/journal.pbio.0040073)\", el genoma mitocondrial del mamut contiene:\n",
        "\n",
        "\n",
        "*   13 genes codificadores de proteínas\n",
        "*   22 genes de ARNt\n",
        "*   Dos genes de ARNr\n",
        "*   La región de control D-loop\n",
        "\n",
        "![](https://drive.google.com/uc?id=1ZjrKcZQjY_80sh4y1IrSjw-9nelBloEZ)\n",
        "\n",
        "\n",
        "Podemos decir que hay dos ventajas principales de utilizar <font color='blue'>mtDNA</font> sobre DNA nuclear:\n",
        "\n",
        "\n",
        "*   El elevado número de copias de estos genomas en cada célula. Esto hace que sea relativamente más fácil extraer DNA de tejidos más antiguos\n",
        "*   Cómo las mitoncondrias sólo se transmiten a través de la madre, cada individuo tiene una sola version de <font color='blue'>mtDNA</font>,\n"
      ],
      "metadata": {
        "id": "q1pXBRXEvuYo"
      }
    },
    {
      "cell_type": "markdown",
      "source": [
        "### <font color='brown'>*Preliminares:*</font>  *Cargar y limpiar los archivos*"
      ],
      "metadata": {
        "id": "M4Bs6L896UOq"
      }
    },
    {
      "cell_type": "markdown",
      "source": [
        "Lo primero que haremos será cargar los archivos <font color='brown'>*.fasta*</font> que corresponden al <font color='brown'>DNA mitocondrial</font> del *Mamut y los Efantes modernos*. Esto lo haremos a través del enlace a  *Google Drive* donde se almacenan estos archivos, creando así una copia de este archivo en el entorno de trabajo"
      ],
      "metadata": {
        "id": "-B8ARoMjjISd"
      }
    },
    {
      "cell_type": "code",
      "source": [
        "import requests\n",
        "\n",
        "def descargar_archivo(url, nombre_archivo):\n",
        "  \"\"\"\n",
        "  Descarga un archivo a través de su url\n",
        "  @param url: Ruta del archivo\n",
        "  @param nombre_archivo: Nombre con el que se guardara el archivo\n",
        "  @return: Secuencia sin el encabezado y espacios\n",
        "  \"\"\"\n",
        "  respuesta = requests.get(url) # Realizamos la solicitud para descargar el archivo\n",
        "\n",
        "  if respuesta.status_code == 200:  # Verificamos que la peticion sea exitosa\n",
        "    with open(nombre_archivo, 'wb') as f:\n",
        "      f.write(respuesta.content)\n",
        "      print(\"Archivo descargado correctamente.\")\n",
        "  else:\n",
        "    print(\"Error al descargar el archivo. Estado:\", respuesta.status_code)\n"
      ],
      "metadata": {
        "id": "7yiuLc9A6ANx"
      },
      "execution_count": null,
      "outputs": []
    },
    {
      "cell_type": "code",
      "source": [
        "url_mamut = 'https://drive.google.com/uc?id=1TleQt6McAif6o3BBICCiIiX0Yie2Dbki'\n",
        "url_loxodonta = 'https://drive.google.com/uc?id=1S_CqW2rnCpWgrtucq7xUsmPVr6Q8S_0l'\n",
        "url_elephas = 'https://drive.google.com/uc?id=1rz4dZwCD5_PKDVZnnOIwpVOGUyjgXq10'\n",
        "url_elephantulus = 'https://drive.google.com/uc?id=1I9hDsdI0LFWDGARFEb1imcU_iZcbbyxy'\n",
        "\n",
        "descargar_archivo(url_mamut, \"MammuthusPrimigenius.fasta\")\n",
        "descargar_archivo(url_loxodonta, \"LoxodontaAfricana.fasta\")\n",
        "descargar_archivo(url_elephas, \"ElephasMaximus.fasta\")\n",
        "descargar_archivo(url_elephantulus, \"ElephantulusVB001.fasta\")"
      ],
      "metadata": {
        "colab": {
          "base_uri": "https://localhost:8080/"
        },
        "id": "PMbZ9GfK-wJR",
        "outputId": "abdf7149-527b-4626-b572-8132f85d1e3f"
      },
      "execution_count": null,
      "outputs": [
        {
          "output_type": "stream",
          "name": "stdout",
          "text": [
            "Archivo descargado correctamente.\n",
            "Archivo descargado correctamente.\n",
            "Archivo descargado correctamente.\n",
            "Archivo descargado correctamente.\n"
          ]
        }
      ]
    },
    {
      "cell_type": "markdown",
      "source": [
        "Por último limpiamos los archivos para eleminar los encabezados, espacios y saltos de línea."
      ],
      "metadata": {
        "id": "bR2qTRBwES5F"
      }
    },
    {
      "cell_type": "code",
      "source": [
        "def limpiar_fasta(path_archivo):\n",
        "  \"\"\"\n",
        "  Elimina los encabezados y los espcacios innecesarios de un archivo .fasta\n",
        "  @param path_archivo: Ruta del archivo\n",
        "  @return: Secuencia sin el encabezado y espacios\n",
        "  \"\"\"\n",
        "  secuencias = []\n",
        "  with open(path_archivo, 'r') as archivo:\n",
        "    for linea in archivo:\n",
        "      if not linea.startswith('>'):\n",
        "        secuencias.append(linea.strip())\n",
        "  secuencia = ''.join(secuencias)\n",
        "  return secuencia"
      ],
      "metadata": {
        "id": "j08e6gr488FG"
      },
      "execution_count": null,
      "outputs": []
    },
    {
      "cell_type": "code",
      "source": [
        "mtDNA_Mammuthus_Primigenius = limpiar_fasta(\"/content/MammuthusPrimigenius.fasta\")\n",
        "mtDNA_Loxodonta_Africana = limpiar_fasta(\"/content/LoxodontaAfricana.fasta\")\n",
        "mtDNA_Elephas_Maximus = limpiar_fasta(\"/content/ElephasMaximus.fasta\")\n",
        "mtDNA_Elephantulus_VB001 = limpiar_fasta(\"/content/MammuthusPrimigenius.fasta\")"
      ],
      "metadata": {
        "id": "coLd5-w_sxH3"
      },
      "execution_count": null,
      "outputs": []
    },
    {
      "cell_type": "markdown",
      "source": [
        "## <font color='brown'>1. Eliminar las Regiones Hipervariables (*HVR*)</font>\n"
      ],
      "metadata": {
        "id": "q3aEFFK7FmCn"
      }
    },
    {
      "cell_type": "markdown",
      "source": [
        "El DNA mitocondrial cuenta con una región específica, que no contiene ningún gen, conocida como <font color='red'>*D-loop*</font> o región de control de aproximadamete 1,1 kb que es una secuencia no codificante en el genoma mitocondrial, pero es fundamental para la <font color='red'>replicación</font> y la <font color='red'>*transcripción*</font> del DNA mitocondrial. El origen de la replicación es donde comienza la replicación del genoma circular: el promotor es donde comienza la transcripción de todos los genes del <font color='blue'>mtDNA</font>\n",
        "\n",
        "El <font color='red'>*D-loop*</font> contiene también dos regiones hipervaribales sin función conocida: denominadas como regiones I y II (<font color='blue'>HVR-I</font> y <font color='blue'>HVR-II</font>). Estas regiones se encuentran a cada lado del inicio de inicio de la replicación y constituyen la mayor parte del <font color='red'>*D-loop*</font> (cada uno tiene una longitud de entre 400-500 pb)\n",
        "\n",
        "![](https://drive.google.com/uc?id=1AU8I0caRC5TvORlZlKOIoIIuBxP6jhz3)\n",
        "\n",
        "Cómo se aprecia en la imagen de arriba, en el caso de los humanos las dos HVR tienen posiciones aproximadamente *16024-16400* (para <font color='blue'>HVR-II</font>) y posiciones *1-500* (para <font color='blue'>HVR-II</font>). Hay que tomar en cuenta que la numeración de las posiciones siempre es algo arbitraria (ya que la longitud puede cambiar debido a inserciones o eliminaciones).\n",
        "\n",
        "En nuestro caso, al realizar una exhaustiva busqueda a través del GenBank no encontramos las <font color='blue'>HVR</font> completas de los individuos a analizar, por lo que solo eliminaremos los fragmentos que encontramos.\n"
      ],
      "metadata": {
        "id": "X4zpCMVEUuD_"
      }
    },
    {
      "cell_type": "code",
      "source": [
        "def encontrar_y_cortar_segmento_hvr(mtdna, segmento_hvr):\n",
        "  \"\"\"\n",
        "  Busca el fragmento hvr en la secuencia de mtdna. Se imprime su posición se elimina\n",
        "  @param mtdna: Secuencia de dna mitocondrial\n",
        "  @param segmento_hvr: Segmento HVR a eliminar\n",
        "  @return: Secuencia sin el fragmento HVR\n",
        "  \"\"\"\n",
        "\n",
        "  inicio = mtdna.find(segmento_hvr)\n",
        "  if inicio != -1:\n",
        "    final = inicio + len(segmento_hvr)\n",
        "    print(f\"El fragmento HVR se encuentra desde la posición {inicio} hasta la posición {final - 1}.\")\n",
        "    mtdna_sin_hvr = mtdna[:inicio] + mtdna[final:]\n",
        "    print(len(mtdna_sin_hvr))\n",
        "    return mtdna_sin_hvr\n",
        "  else:\n",
        "    print(\"La subcadena no está presente.\")\n",
        "    return mtdna\n"
      ],
      "metadata": {
        "id": "jh0HevptMMyX"
      },
      "execution_count": null,
      "outputs": []
    },
    {
      "cell_type": "markdown",
      "source": [
        "En este caso del <font color='red'>mamut lanudo</font>  encontramos un pequeño frgamento de una región hipervariable que puede ser consultado [aquí](https://www.ncbi.nlm.nih.gov/nuccore/AF361999.1).\n",
        "\n",
        "Para el <font color='red'>elefante africano</font>  también encontramos un fragmento que puede ser consultado [aquí](https://www.ncbi.nlm.nih.gov/nuccore/MG661916.1)\n",
        "\n",
        "Para el <font color='red'>elefante asiático</font> encontramos un fragmento que puede ser consultado [aquí](https://www.ncbi.nlm.nih.gov/nuccore/AF358450.1)\n",
        "\n",
        "Para la <font color='red'>musaraña elefante</font> no encontramos ningún fragmento de regiones HVR"
      ],
      "metadata": {
        "id": "rwW4y2AKJ9Ms"
      }
    },
    {
      "cell_type": "code",
      "source": [
        "hypervariable_segment_mamut = \"ACTATAGATGAAATCAAGAGTATAAACGGGAGGCGTAACTAGTTACATAGGGGTGAAAGCA\"\n",
        "mtDNA_nHVR_Mammuthus_Primigenius = encontrar_y_cortar_segmento_hvr(mtDNA_Mammuthus_Primigenius, hypervariable_segment_mamut)\n",
        "\n",
        "hvrI_segment_loxodonta = \"AATCAACCCGCTATGTATATCGTGCATTAAATGCTTGTCCCCATACATAATGATATATATTACTAACTATACTTAATCTTACATAGACCATACTATGTATAATCGTGCATCACATTATTTACCCCATGCTTATAA\"\n",
        "mtDNA_nHVR_LoxodontaAfricana = encontrar_y_cortar_segmento_hvr(mtDNA_Loxodonta_Africana, hvrI_segment_loxodonta)\n",
        "\n",
        "hvrI_elephas = \"CAAGTAAATCAATCCGCTATGTACATCGTGCATTAAATGCTCGTCCCCATACATAATGATATATAATACTAACTATACTTAATCTTACATAGACCATACTATGTATAATCGTGCATCACATTATTTACCCCATGCTTATAAGCAAGCACTGTTTAATCAATGTGTCAAGTCATATTCCTGTAGATTCACAGGTTATGTTTTAGTTCATGGATATTGTTCACCTACGATAAACCATAGTCTTACATAGCACATTAAAGCTCTTGATCGTGCATAGCGCATTACTGAGAAATCTCTAGTCATCATGCATATCACCTCCAACGG\"\n",
        "mtDNA_nHVR_ElephasMaximus = encontrar_y_cortar_segmento_hvr(mtDNA_Elephas_Maximus, hvrI_elephas)\n",
        "\n"
      ],
      "metadata": {
        "colab": {
          "base_uri": "https://localhost:8080/"
        },
        "id": "TLbGUwiNKfKh",
        "outputId": "5241493b-3c28-4220-ea59-c87c30816a1a"
      },
      "execution_count": null,
      "outputs": [
        {
          "output_type": "stream",
          "name": "stdout",
          "text": [
            "El fragmento HVR se encuentra desde la posición 16585 hasta la posición 16645.\n",
            "16709\n",
            "El fragmento HVR se encuentra desde la posición 15422 hasta la posición 15556.\n",
            "16731\n",
            "El fragmento HVR se encuentra desde la posición 15418 hasta la posición 15738.\n",
            "16581\n"
          ]
        }
      ]
    },
    {
      "cell_type": "markdown",
      "source": [
        "## <font color='brown'>2. Alineamiento global de las secuencias de mtDNA</font>"
      ],
      "metadata": {
        "id": "lUGRTYwhG11m"
      }
    },
    {
      "cell_type": "markdown",
      "source": [
        "El propósito del <font color='red'>alineamiento de secuencias</font> es <font color='green'>medir la similitud de las secuencias o ver que tan parecidas son las secuencias entre sí.</font> Algunos de los usos de la alineación de secuencias son:\n",
        "\n",
        "\n",
        "\n",
        "*   <font color='green'>*Hallazgos de genes:*</font> La comparación de secuencias genómicas completas de dos o más organismos puede revelar la ubicación de genes previamente desconocidos.\n",
        "*   <font color='green'>*Divergencia de secuencias*</font>: La cantidad de divergencia (o similitud) entre dos secuencias puede indicarnos que tan estrechamente relacionadas están las secuencias.\n",
        "\n",
        "\n",
        "\n"
      ],
      "metadata": {
        "id": "oskHJD5rZU7H"
      }
    },
    {
      "cell_type": "markdown",
      "source": [],
      "metadata": {
        "id": "WdZ9k_r265DZ"
      }
    },
    {
      "cell_type": "markdown",
      "source": [
        "Un <font color='red'>alineamiento de global</font> de dos secuencias se puede considerar como una representación de la correspondencia entre sus nucleótidos. Si dos secuencias tienen el mismo ancestro, se espera que tengan muchos de estos \"símbolos\" en común. Se define al alineamiento global como:\n",
        "\n",
        "\n",
        "\n",
        "> Un <font color='red'>alineamiento de global</font> de dos secuencias <font color='green'>*s*</font> y <font color='green'>*t*</font>, es una asignación de símbolos de espacio **\"-\"** en esas secuencias. Las dos cadenas resultantes se colocan una encima de la otra de modo que cada carácter o símbolo de espacio en cualquiera de las cadenas esté frenta  a un carácter único o un símbolo de espacio único en la otra cadena.\n",
        "\n",
        "\n",
        "Nosotros utilizaremos el algoritmo de <font color='green'>**Needleman-Wunsch**</font>\n",
        "\n"
      ],
      "metadata": {
        "id": "xdPJ8D4eeEmf"
      }
    },
    {
      "cell_type": "markdown",
      "source": [
        "> <font color='green'>**Algoritmo de alineamiento global Needleman-Wunsch:**</font>\n",
        "\n",
        "\n",
        "*   Crear una tabla de tamaño $(m+1) \\times (n+1)$ para las secuencias digamos <font color='green'>$s$</font> y <font color='green'>$t$</font> de longitud $m$ y $n$\n",
        "*   Completar las entradas de la tabla $(m : 1)$ y $(1:n)$ con la fórmula:\n",
        "\n",
        "    *    $M_{i, 1} = \\sum_{k=1}^{i}σ (s_{k}, -)$\n",
        "    *    $M_{1, j} = \\sum_{k=1}^{j}σ (-, t_{k})$\n",
        "\n",
        "*   Comenazando desde la parte superior izquierda, calcular cada entrada usando la relación recursiva:\n",
        "    *    \n",
        "$\\\n",
        "M_{i,j} = \\max \\left\\{ \\begin{array}{l}\n",
        "M_{i-1,j} + \\sigma(s_i, -) \\qquad\\qquad \\text{Fila de arriba} \\\\\n",
        "M_{i,j-1} + \\sigma(-, t_j)  \\qquad\\qquad \\text{Columna izquierda} \\\\\n",
        "M_{i-1,j-1} + \\sigma(s_i, t_j) \\qquad\\qquad \\text{Diagonal}\n",
        "\\end{array} \\right.\n",
        "$\n",
        "*    Realizar el procedimiento de trace-back para obtener el alineamiento óptimo recordando cada elección de la relación recursiva. Para cada paso diagonal hay una correspondencia o discrepancia (match/mismatch) en el alineamiento: Para cada paso vertical se inserta un gap  en la secuencia superior: Para cada paso horizontal se inserta un gap en la secuencia del costado:"
      ],
      "metadata": {
        "id": "MqZsaLApvEmy"
      }
    },
    {
      "cell_type": "code",
      "source": [
        "def Needleman_Wunsch(seq1, seq2, match_score=1, mismatch_penalty=-1, gap_penalty=-1):\n",
        "  \"\"\"\n",
        "  Algoritmo de Needleman-Wunsch para el alineamiento global de secuencias\n",
        "  @param seq1: Primera secuencia a alinear\n",
        "  @param seq2: Segunda secuencia a alinear\n",
        "  @param match_score: Score por coincidencia de caracteres.\n",
        "  @param mismatch_penalty: Score por no coincidencia de caracteres (penalizacion)\n",
        "  @param gap_penalty: Score por insercion del gap en el alineamiento.\n",
        "  @return: Cadenas que representan el alineamiento de las secuencias.\n",
        "  \"\"\"\n",
        "  # Se crea la matriz de scores\n",
        "  n, m = len(seq1), len(seq2)\n",
        "  score_matrix = [[0] * (m + 1) for _ in range(n + 1)]\n",
        "\n",
        "  # Inicializnado  la matriz de scores\n",
        "  for i in range(n + 1):\n",
        "    score_matrix[i][0] = i * gap_penalty\n",
        "  for j in range(m + 1):\n",
        "    score_matrix[0][j] = j * gap_penalty\n",
        "\n",
        "  # Se completa la matriz de socores\n",
        "  for i in range(1, n + 1):\n",
        "    for j in range(1, m + 1):\n",
        "      if seq1[i-1] == seq2[j-1]:\n",
        "        score_diagonal = score_matrix[i-1][j-1] + match_score\n",
        "      else:\n",
        "        score_diagonal = score_matrix[i-1][j-1] + mismatch_penalty\n",
        "\n",
        "      score_up = score_matrix[i-1][j] + gap_penalty\n",
        "      score_left = score_matrix[i][j-1] + gap_penalty\n",
        "      score_matrix[i][j] = max(score_diagonal, score_up, score_left)\n",
        "\n",
        "  # Trace-back\n",
        "  align1, align2 = '', ''\n",
        "  i, j = n, m\n",
        "  while i > 0 and j > 0:\n",
        "    score_current = score_matrix[i][j]\n",
        "    score_diagonal = score_matrix[i-1][j-1]\n",
        "    score_up = score_matrix[i-1][j]\n",
        "    score_left = score_matrix[i][j-1]\n",
        "\n",
        "    if score_current == score_diagonal + (match_score if seq1[i-1] == seq2[j-1] else mismatch_penalty):\n",
        "      align1 += seq1[i-1]\n",
        "      align2 += seq2[j-1]\n",
        "      i -= 1\n",
        "      j -= 1\n",
        "    elif score_current == score_up + gap_penalty:\n",
        "      align1 += seq1[i-1]\n",
        "      align2 += '-'\n",
        "      i -= 1\n",
        "    else:\n",
        "      align1 += '-'\n",
        "      align2 += seq2[j-1]\n",
        "      j -= 1\n",
        "\n",
        "  while i > 0:\n",
        "    align1 += seq1[i-1]\n",
        "    align2 += '-'\n",
        "    i -= 1\n",
        "\n",
        "  while j > 0:\n",
        "    align1 += '-'\n",
        "    align2 += seq2[j-1]\n",
        "    j -= 1\n",
        "\n",
        "  return align1[::-1], align2[::-1]"
      ],
      "metadata": {
        "id": "R7kewImQeiP2"
      },
      "execution_count": null,
      "outputs": []
    },
    {
      "cell_type": "code",
      "source": [
        "# Se tarda como 12 minutos en ejecutarse\n",
        "# Omitir esta celda y la de abajo\n",
        "\n",
        "A1_mtDNA_Mammuthus_Primigenius, _mtDNA_LoxodontaAfricana = Needleman_Wunsch(mtDNA_nHVR_Mammuthus_Primigenius, mtDNA_nHVR_LoxodontaAfricana) # Se tarda como 12 minutos en ejecutarse\n",
        "\n",
        "A2_mtDNA_align_Mammuthus_Primigenius, _mtDNA_nHVR_ElephasMaximus = Needleman_Wunsch(mtDNA_nHVR_Mammuthus_Primigenius, mtDNA_nHVR_ElephasMaximus)\n",
        "\n",
        "A3_mtDNA_align_Mammuthus_Primigenius, _mtDNA_Elephantulus_VB001 = Needleman_Wunsch(mtDNA_nHVR_Mammuthus_Primigenius, mtDNA_Elephantulus_VB001)"
      ],
      "metadata": {
        "id": "6YhBhX82gpGD"
      },
      "execution_count": null,
      "outputs": []
    },
    {
      "cell_type": "code",
      "source": [
        "# Utilizar las siguientes variables para todo el demas proceimiento\n",
        "# Omitir esta celda\n",
        "\n",
        "print(\"Alineamiento entre el mamut y elefante africano\")\n",
        "print(A1_mtDNA_Mammuthus_Primigenius)\n",
        "print(_mtDNA_LoxodontaAfricana)\n",
        "print(\"\")\n",
        "\n",
        "print(\"Alineamiento entre el mamut y elefante asiático\")\n",
        "print(A2_mtDNA_align_Mammuthus_Primigenius)\n",
        "print(_mtDNA_nHVR_ElephasMaximus)\n",
        "print(\"\")\n",
        "\n",
        "print(\"Alineamiento entre el mamut y la musaraña elefante\")\n",
        "print(A3_mtDNA_align_Mammuthus_Primigenius)\n",
        "print(_mtDNA_Elephantulus_VB001)"
      ],
      "metadata": {
        "colab": {
          "base_uri": "https://localhost:8080/",
          "height": 233
        },
        "id": "eowjXShcWWE_",
        "outputId": "bb7d70ec-3345-49d9-d41a-d42039cf7b34"
      },
      "execution_count": null,
      "outputs": [
        {
          "output_type": "stream",
          "name": "stdout",
          "text": [
            "Alineamiento entre el mamut y elefante africano\n"
          ]
        },
        {
          "output_type": "error",
          "ename": "NameError",
          "evalue": "name 'A1_mtDNA_Mammuthus_Primigenius' is not defined",
          "traceback": [
            "\u001b[0;31m---------------------------------------------------------------------------\u001b[0m",
            "\u001b[0;31mNameError\u001b[0m                                 Traceback (most recent call last)",
            "\u001b[0;32m<ipython-input-1-8efa57e89bbf>\u001b[0m in \u001b[0;36m<cell line: 4>\u001b[0;34m()\u001b[0m\n\u001b[1;32m      2\u001b[0m \u001b[0;34m\u001b[0m\u001b[0m\n\u001b[1;32m      3\u001b[0m \u001b[0mprint\u001b[0m\u001b[0;34m(\u001b[0m\u001b[0;34m\"Alineamiento entre el mamut y elefante africano\"\u001b[0m\u001b[0;34m)\u001b[0m\u001b[0;34m\u001b[0m\u001b[0;34m\u001b[0m\u001b[0m\n\u001b[0;32m----> 4\u001b[0;31m \u001b[0mprint\u001b[0m\u001b[0;34m(\u001b[0m\u001b[0mA1_mtDNA_Mammuthus_Primigenius\u001b[0m\u001b[0;34m)\u001b[0m\u001b[0;34m\u001b[0m\u001b[0;34m\u001b[0m\u001b[0m\n\u001b[0m\u001b[1;32m      5\u001b[0m \u001b[0mprint\u001b[0m\u001b[0;34m(\u001b[0m\u001b[0m_mtDNA_LoxodontaAfricana\u001b[0m\u001b[0;34m)\u001b[0m\u001b[0;34m\u001b[0m\u001b[0;34m\u001b[0m\u001b[0m\n\u001b[1;32m      6\u001b[0m \u001b[0mprint\u001b[0m\u001b[0;34m(\u001b[0m\u001b[0;34m\"\"\u001b[0m\u001b[0;34m)\u001b[0m\u001b[0;34m\u001b[0m\u001b[0;34m\u001b[0m\u001b[0m\n",
            "\u001b[0;31mNameError\u001b[0m: name 'A1_mtDNA_Mammuthus_Primigenius' is not defined"
          ]
        }
      ]
    },
    {
      "cell_type": "code",
      "source": [
        "# Para evitar que se tarden mucho en generar los alineamientos guardamos resultados\n",
        "# previos en archivos\n",
        "\n",
        "url_A1_mamut = 'https://drive.google.com/uc?id=17ROIniu-xy8Oq2D6noaPiPv5zI3SyGga'\n",
        "url_A_loxodonta = 'https://drive.google.com/uc?id=1KMNwQrvLf-eHoDalWCQ9zW6sZcNdNhrc'\n",
        "\n",
        "url_A2_mamut = 'https://drive.google.com/uc?id=1SV_GF5pBOgVb7gfNvTJeDooBIY2WdnbU'\n",
        "url_A_elephas = 'https://drive.google.com/uc?id=1ZGhCIOzddT-8mkuBeyuuzUukMWj_lT6y'\n",
        "\n",
        "url_A3_mamut = 'https://drive.google.com/uc?id=1DihlxKVrv783hGQ6QNFdTE9Q9RD9YgbU'\n",
        "url_A_elephantulus = 'https://drive.google.com/uc?id=1ZyoB5sqvty9dSdG40poTv8lRJHq1pWNC'\n",
        "\n",
        "descargar_archivo(url_A1_mamut, \"A1_Mamut.txt\")\n",
        "descargar_archivo(url_A_loxodonta, \"A_Loxodonta.txt\")\n",
        "\n",
        "descargar_archivo(url_A2_mamut, \"A2_Mamut.txt\")\n",
        "descargar_archivo(url_A_elephas, \"A_Elephas.txt\")\n",
        "\n",
        "descargar_archivo(url_A3_mamut, \"A3_Mamut.txt\")\n",
        "descargar_archivo(url_A_elephantulus, \"A_Elephantulus.txt\")"
      ],
      "metadata": {
        "id": "OG7S3FRFFq38",
        "colab": {
          "base_uri": "https://localhost:8080/"
        },
        "outputId": "6a181753-95e4-4293-a73e-2417cb327177"
      },
      "execution_count": null,
      "outputs": [
        {
          "output_type": "stream",
          "name": "stdout",
          "text": [
            "Archivo descargado correctamente.\n",
            "Archivo descargado correctamente.\n",
            "Archivo descargado correctamente.\n",
            "Archivo descargado correctamente.\n",
            "Archivo descargado correctamente.\n",
            "Archivo descargado correctamente.\n"
          ]
        }
      ]
    },
    {
      "cell_type": "markdown",
      "source": [
        "## <font color='brown'>3. Estimar la distancia genética utilizando el modelo de Jukes-Cantor</font>"
      ],
      "metadata": {
        "id": "d2OVW8Ff67Yk"
      }
    },
    {
      "cell_type": "code",
      "source": [
        "import numpy as np\n",
        "\n",
        "def jukes_cantor_distance(seq1, seq2):\n",
        "    # Verificar que las secuencias tengan la misma longitud\n",
        "    if len(seq1) != len(seq2):\n",
        "        raise ValueError(\"Las secuencias deben tener la misma longitud\")\n",
        "\n",
        "    # Contar el número de diferencias\n",
        "    differences = sum(1 for a, b in zip(seq1, seq2) if a != b)\n",
        "    total_sites = len(seq1)\n",
        "\n",
        "    # Calcular la proporción de sitios diferentes\n",
        "    p = differences / total_sites\n",
        "\n",
        "    # Verificar que p sea menor a 3/4 para que la fórmula de Jukes-Cantor sea aplicable\n",
        "    if p >= 0.75:\n",
        "        raise ValueError(\"La proporción de diferencias es demasiado alta para el modelo de Jukes-Cantor\")\n",
        "\n",
        "    # Calcular la distancia genética utilizando la fórmula de Jukes-Cantor\n",
        "    try:\n",
        "        d = -0.75 * np.log(1 - (4/3) * p)\n",
        "    except ValueError:\n",
        "        raise ValueError(\"Error al calcular la distancia genética. Verifique las proporciones de sitios diferentes.\")\n",
        "\n",
        "    return d\n",
        "\n"
      ],
      "metadata": {
        "id": "yTJQvGcT7NGe"
      },
      "execution_count": 56,
      "outputs": []
    },
    {
      "cell_type": "code",
      "source": [
        "import matplotlib.pyplot as plt\n",
        "import os\n",
        "\n",
        "def read_sequence_from_file(filepath):\n",
        "    with open(filepath, 'r') as file:\n",
        "        sequence = file.read().strip()\n",
        "    return sequence\n",
        "\n",
        "# Lista de archivos de secuencias (parejas de archivos)\n",
        "sequence_files = [\n",
        "    (\"/content/A1_Mamut.txt\", \"/content/A_Loxodonta.txt\"), # Africano\n",
        "    (\"/content/A2_Mamut.txt\", \"/content/A_Elephas.txt\"), # Asiatico\n",
        "    (\"/content/A3_Mamut.txt\", \"/content/A_Elephantulus.txt\") # Musaraña\n",
        "\n",
        "]\n",
        "\n",
        "# Calcular distancias y almacenar resultados\n",
        "distances = []\n",
        "for file1, file2 in sequence_files:\n",
        "    seq1 = read_sequence_from_file(file1)\n",
        "    seq2 = read_sequence_from_file(file2)\n",
        "    distance = jukes_cantor_distance(seq1, seq2)\n",
        "    distances.append(distance)\n",
        "\n",
        "print(distances)"
      ],
      "metadata": {
        "colab": {
          "base_uri": "https://localhost:8080/"
        },
        "id": "6cFkuHl3e_Gf",
        "outputId": "80ced9bc-cb8d-428c-e357-e5e23cf67d43"
      },
      "execution_count": 57,
      "outputs": [
        {
          "output_type": "stream",
          "name": "stdout",
          "text": [
            "[0.06689513067017092, 0.0760340784942497, 0.0036462971318874595]\n"
          ]
        }
      ]
    },
    {
      "cell_type": "code",
      "source": [
        "# Preparar datos para graficar\n",
        "x_labels = [\"Loxodonta Africana\", \"Elephas Maximus\", \"Elpehantulus sp. VB001\"]\n",
        "\n",
        "# Graficar los resultados\n",
        "plt.figure(figsize=(10, 6))\n",
        "plt.bar(x_labels, distances, color='skyblue')\n",
        "plt.xlabel('Pairs of Sequences')\n",
        "plt.ylabel('Distancia Jukes-Cantor')\n",
        "plt.title('Distancia Genetica entre Pares de Secuencia')\n",
        "plt.show()"
      ],
      "metadata": {
        "colab": {
          "base_uri": "https://localhost:8080/",
          "height": 564
        },
        "id": "i6BEFZ9doUgl",
        "outputId": "36db7608-6210-47b4-e72f-cea56a257bfd"
      },
      "execution_count": 58,
      "outputs": [
        {
          "output_type": "display_data",
          "data": {
            "text/plain": [
              "<Figure size 1000x600 with 1 Axes>"
            ],
            "image/png": "[encoded data removed]"
          },
          "metadata": {}
        }
      ]
    },
    {
      "cell_type": "code",
      "source": [
        "#Installing biopython using pip\n",
        "!pip install biopython"
      ],
      "metadata": {
        "colab": {
          "base_uri": "https://localhost:8080/"
        },
        "id": "sA97RJOF5LbT",
        "outputId": "19855155-d1a9-40d6-efcc-a161cc696cae"
      },
      "execution_count": null,
      "outputs": [
        {
          "output_type": "stream",
          "name": "stdout",
          "text": [
            "Collecting biopython\n",
            "  Downloading biopython-1.83-cp310-cp310-manylinux_2_17_x86_64.manylinux2014_x86_64.whl (3.1 MB)\n",
            "\u001b[2K     \u001b[90m━━━━━━━━━━━━━━━━━━━━━━━━━━━━━━━━━━━━━━━━\u001b[0m \u001b[32m3.1/3.1 MB\u001b[0m \u001b[31m30.1 MB/s\u001b[0m eta \u001b[36m0:00:00\u001b[0m\n",
            "\u001b[?25hRequirement already satisfied: numpy in /usr/local/lib/python3.10/dist-packages (from biopython) (1.25.2)\n",
            "Installing collected packages: biopython\n",
            "Successfully installed biopython-1.83\n"
          ]
        }
      ]
    },
    {
      "cell_type": "code",
      "source": [
        "from Bio.Phylo.TreeConstruction import DistanceMatrix\n",
        "from Bio.Phylo.TreeConstruction import DistanceTreeConstructor\n",
        "from Bio import Phylo\n",
        "\n",
        "\n",
        "# Crear matriz de distancias\n",
        "matrix = DistanceMatrix(names=x_labels, matrix=[[0],\n",
        "                                                [distances[0], 0],\n",
        "                                                [distances[2], distances[1], 0]\n",
        "                                                ])\n",
        "\n",
        "# Crear constructor de árbol filogenético\n",
        "constructor = DistanceTreeConstructor()\n",
        "\n",
        "# Construir el árbol filogenético\n",
        "tree = constructor.upgma(matrix)\n",
        "\n",
        "# Dibujar el árbol filogenético\n",
        "Phylo.draw(tree)"
      ],
      "metadata": {
        "colab": {
          "base_uri": "https://localhost:8080/",
          "height": 449
        },
        "id": "nsoqV9Ssn8TG",
        "outputId": "af25c84d-fc21-482a-c3e5-e99f60303e5a"
      },
      "execution_count": null,
      "outputs": [
        {
          "output_type": "display_data",
          "data": {
            "text/plain": [
              "<Figure size 640x480 with 1 Axes>"
            ],
            "image/png": "[encoded data removed]"
          },
          "metadata": {}
        }
      ]
    }
  ]
}